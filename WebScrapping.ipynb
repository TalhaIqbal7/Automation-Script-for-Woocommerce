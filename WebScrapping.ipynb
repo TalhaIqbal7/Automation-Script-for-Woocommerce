{
 "cells": [
  {
   "cell_type": "code",
   "execution_count": 6,
   "id": "0e210f06",
   "metadata": {},
   "outputs": [],
   "source": [
    "import os\n",
    "import selenium\n",
    "from selenium import webdriver\n",
    "import time\n",
    "from PIL import Image\n",
    "import io\n",
    "from selenium.webdriver.common.by import By\n",
    "import xlsxwriter\n",
    "import requests\n",
    "from webdriver_manager.chrome import ChromeDriverManager\n",
    "from selenium.common.exceptions import ElementClickInterceptedException\n",
    "import pandas as pd"
   ]
  },
  {
   "cell_type": "code",
   "execution_count": 7,
   "id": "fba6bf69",
   "metadata": {},
   "outputs": [],
   "source": [
    "def return_title(link_array):\n",
    "    driver = webdriver.Chrome(ChromeDriverManager().install())\n",
    "    driver.get(link_array)\n",
    "    var=driver.title\n",
    "    #print(var)\n",
    "    Name_array=var.split(\" |\")\n",
    "    #print(Name_array)\n",
    "    Name=Name_array[0]\n",
    "    #print(Name)\n",
    "    return Name"
   ]
  },
  {
   "cell_type": "code",
   "execution_count": 8,
   "id": "7c90541b",
   "metadata": {},
   "outputs": [],
   "source": [
    "#import requests\n",
    "\n",
    "#python_base_url = 'https://python.itversity.com'\n",
    "#python_url = f'{python_base_url}/mastering-python.html'\n",
    "#python_page = requests.get(\"https://www.shein.co.uk/Men-1pc-Random-Tropical-Print-Shirt-p-9123097-cat-1979.html?scici=productDetail~~RecommendList~~RS_own,RJ_NoFaultTolerant~~Customers%20Also%20Viewed~~SPcProductDetailCustomersAlsoViewedList~~0\")\n",
    "\n",
    "#from bs4 import BeautifulSoup\n",
    "\n",
    "#soup = BeautifulSoup(python_page.content, 'html.parser')\n",
    "#print(soup.prettify())\n",
    "\n",
    "#for a in soup.find_all('img'):\n",
    "#    print(a)"
   ]
  },
  {
   "cell_type": "code",
   "execution_count": 9,
   "id": "51c03685",
   "metadata": {},
   "outputs": [
    {
     "name": "stdout",
     "output_type": "stream",
     "text": [
      "\n"
     ]
    },
    {
     "name": "stderr",
     "output_type": "stream",
     "text": [
      "<ipython-input-7-585ad805a40d>:2: DeprecationWarning: executable_path has been deprecated, please pass in a Service object\n",
      "  driver = webdriver.Chrome(ChromeDriverManager().install())\n"
     ]
    },
    {
     "name": "stdout",
     "output_type": "stream",
     "text": [
      "\n",
      "\n",
      "\n"
     ]
    }
   ],
   "source": [
    "pd.set_option('display.max_colwidth', None)\n",
    "df = pd.read_excel('raw_dataset.xlsx')  \n",
    "first_column = df.iloc[:, 0]\n",
    "#print(first_column)\n",
    "price_column = df.iloc[:,2]\n",
    "price_column = price_column.to_list()\n",
    "color_n_column = df.iloc[:,11].to_list()\n",
    "color_column = df.iloc[:,12].to_list()\n",
    "path_column=df.iloc[:,7].to_list()\n",
    "#print(path_column)\n",
    "post_status=[]\n",
    "tax_status=[]\n",
    "for z in range(0,len(price_column)):\n",
    "    post_status.append(\"publish\")\n",
    "    tax_status.append(\"taxable\")\n",
    "#print(tax_status)\n",
    "first=first_column.to_list()\n",
    "for x in range(len(color_column)):\n",
    "    #print(color_column[x])\n",
    "    color_column[x]=color_column[x].replace(\"and\", \",\")\n",
    "    color_column[x]=color_column[x].replace(\" \", \"\")\n",
    "for x in range(len(color_column)):\n",
    "    color_column[x]=color_column[x].replace(\",\", \" | \")\n",
    "    \n",
    "    #print(color_column[x])\n",
    "size_column = df.iloc[:,14].to_list()\n",
    "def inserter(s,a,n):\n",
    "    return s[:n]+a+s[n:]\n",
    "for x in range(len(size_column)):\n",
    "    #print(size_column[x])\n",
    "    size_column[x]=str(size_column[x])\n",
    "    size_column[x]=size_column[x].replace(\" \\n\", \"\")\n",
    "    size_column[x]=size_column[x].replace(\">\", \",\")\n",
    "    size_column[x]=size_column[x].replace(\"<\", \",\")\n",
    "    indexes = [x for x, v in enumerate(str(size_column[x])) if v == ')']\n",
    "    count=0\n",
    "    for y in range(len(indexes)):\n",
    "        count=count+1\n",
    "        size_column[x]=size_column[x].replace(\" \\n\", \"\")\n",
    "        #if size_column[x][-1]!= \")\":\n",
    "        size_column[x]=(inserter(size_column[x],\",\",indexes[y]+count))\n",
    "        if size_column[x][-1]==\",\":\n",
    "            size_column[x] = size_column[x][0:len(size_column[x]) - 1]\n",
    "for x in range(len(size_column)):\n",
    "    size_column[x]=size_column[x].replace(\",\", \" | \")\n",
    "            \n",
    "Attribute_1_name=[]\n",
    "for x in range(len(size_column)):\n",
    "    Attribute_1_name=\"Color\"\n",
    "Attribute_2_name=[]\n",
    "for x in range(len(size_column)):\n",
    "    Attribute_2_name=\"Size\"\n",
    "sku_column=[]\n",
    "for x in range(len(size_column)):\n",
    "    sku_column=\"\"\n",
    "downloadable=[]\n",
    "for x in range(len(size_column)):\n",
    "    downloadable=\"no\"\n",
    "virtual=[]\n",
    "for x in range(len(size_column)):\n",
    "    virtual=\"no\"\n",
    "visible=[]\n",
    "for x in range(len(size_column)):\n",
    "    visible=\"visible\"\n",
    "sale_price=[]\n",
    "for x in range(len(size_column)):\n",
    "    sale_price=\"\"\n",
    "\n",
    "#print(price_column)\n",
    "#print(indexes)\n",
    "#print(size_column[x])\n",
    "#print(*size_column,sep = \"\\n\")\n",
    "#name_column=[]\n",
    "titles_array=[]\n",
    "for i in range(0,len(size_column)):\n",
    "    titles_array.append(return_title(first_column[i]))\n",
    "#print(titles_array)\n",
    "df_new = pd.DataFrame({'Post Name':titles_array ,'Post Title':titles_array ,'regular_price': price_column,'sale_price':sale_price,'post_status':post_status,\"sku\":sku_column,\"downloadable\":downloadable,\"virtual\":virtual,\"visible\":visible,\"path_column\":path_column,\"tax_status\":tax_status,'Attribute 1 name': Attribute_1_name,'Attribute 1 value': color_column,'Attribute 2 name': Attribute_2_name,\"Attribute 2 value\":size_column})\n",
    "#print(df_new)"
   ]
  },
  {
   "cell_type": "code",
   "execution_count": 10,
   "id": "1b1d26cd",
   "metadata": {},
   "outputs": [],
   "source": [
    "# Create a Pandas Excel writer using XlsxWriter as the engine.\n",
    "writer = pd.ExcelWriter('demo.xlsx', engine='xlsxwriter')\n",
    "\n",
    "# Convert the dataframe to an XlsxWriter Excel object.\n",
    "df_new.to_excel(writer, sheet_name='Sheet1', index=False)\n",
    "\n",
    "# Close the Pandas Excel writer and output the Excel file.\n",
    "writer.save()"
   ]
  },
  {
   "cell_type": "code",
   "execution_count": null,
   "id": "f4593b8f",
   "metadata": {},
   "outputs": [],
   "source": []
  }
 ],
 "metadata": {
  "kernelspec": {
   "display_name": "Python 3",
   "language": "python",
   "name": "python3"
  },
  "language_info": {
   "codemirror_mode": {
    "name": "ipython",
    "version": 3
   },
   "file_extension": ".py",
   "mimetype": "text/x-python",
   "name": "python",
   "nbconvert_exporter": "python",
   "pygments_lexer": "ipython3",
   "version": "3.8.8"
  }
 },
 "nbformat": 4,
 "nbformat_minor": 5
}
